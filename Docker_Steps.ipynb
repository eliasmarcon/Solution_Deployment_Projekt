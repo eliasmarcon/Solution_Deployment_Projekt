{
 "cells": [
  {
   "cell_type": "markdown",
   "metadata": {},
   "source": [
    "# Creating Docker Container locally and pushing it to Dockerhub"
   ]
  },
  {
   "cell_type": "code",
   "execution_count": 9,
   "metadata": {},
   "outputs": [
    {
     "name": "stderr",
     "output_type": "stream",
     "text": [
      "#1 [internal] load build definition from Dockerfile\n",
      "#1 sha256:38e3dccd6bdaa3f5db669ef8463ffea6e53b35b2afe4e42d816fcd7130943290\n",
      "#1 transferring dockerfile: 32B done\n",
      "#1 DONE 0.0s\n",
      "\n",
      "#2 [internal] load .dockerignore\n",
      "#2 sha256:1d3d66da595586bfa0fc7c3b6c33ee46ccac30fc88b39257c8e7fe6652dff86e\n",
      "#2 transferring context: 2B done\n",
      "#2 DONE 0.0s\n",
      "\n",
      "#3 [internal] load metadata for docker.io/library/python:3.8\n",
      "#3 sha256:edad251955f644c6004999f0af04035912392fa02db26821676452becbc715fb\n",
      "#3 DONE 0.6s\n",
      "\n",
      "#5 [internal] load build context\n",
      "#5 sha256:b3d62df8dea73c7d6a904d39195e77d3733f27b024f7dd327bb37ab03975b700\n",
      "#5 transferring context: 1.22kB done\n",
      "#5 DONE 0.0s\n",
      "\n",
      "#4 [1/5] FROM docker.io/library/python:3.8@sha256:0953f81f7c6eb32c9be6e3c6bb69e671a5558acf002d0cb2096dd871a054a8ab\n",
      "#4 sha256:9515e341287b921fb4d5758f7d568e0aae2ecd0eb061da67330ea8cdbc2f07de\n",
      "#4 CACHED\n",
      "\n",
      "#6 [2/5] COPY . /app\n",
      "#6 sha256:025eb6edb873beecfce942a0c26c0062fccd74e9bd8a051cbd35de9770109ce3\n",
      "#6 DONE 0.0s\n",
      "\n",
      "#7 [3/5] COPY ./openssl.cnf /etc/ssl/\n",
      "#7 sha256:1339a4c55073a9f81ccbc2bf75afb57ffd66cfe406325d390b62c52263b97e2d\n",
      "#7 DONE 0.0s\n",
      "\n",
      "#8 [4/5] WORKDIR /app\n",
      "#8 sha256:7e9a3ea91812d0e795d9db078d17cadd2628be33e22160e540db31d2c5208444\n",
      "#8 DONE 0.0s\n",
      "\n",
      "#9 [5/5] RUN pip install -r requirements.txt\n",
      "#9 sha256:28d701fbca0af82556e618e757fd3756e259ad55c419bebdebfe018dd98f86d1\n",
      "#9 1.608 Collecting uvicorn\n",
      "#9 1.799   Downloading uvicorn-0.20.0-py3-none-any.whl (56 kB)\n",
      "#9 2.048      ━━━━━━━━━━━━━━━━━━━━━━━━━━━━━━━━━━━━━━━ 56.9/56.9 KB 189.8 kB/s eta 0:00:00\n",
      "#9 2.159 Collecting fastapi\n",
      "#9 2.185   Downloading fastapi-0.88.0-py3-none-any.whl (55 kB)\n",
      "#9 2.204      ━━━━━━━━━━━━━━━━━━━━━━━━━━━━━━━━━━━━━━━━ 55.5/55.5 KB 2.9 MB/s eta 0:00:00\n",
      "#9 2.399 Collecting pydantic\n",
      "#9 2.425   Downloading pydantic-1.10.2-cp38-cp38-manylinux_2_17_x86_64.manylinux2014_x86_64.whl (13.6 MB)\n",
      "#9 3.651      ━━━━━━━━━━━━━━━━━━━━━━━━━━━━━━━━━━━━━━━━ 13.6/13.6 MB 11.8 MB/s eta 0:00:00\n",
      "#9 3.702 Collecting bs4\n",
      "#9 3.726   Downloading bs4-0.0.1.tar.gz (1.1 kB)\n",
      "#9 3.732   Preparing metadata (setup.py): started\n",
      "#9 3.954   Preparing metadata (setup.py): finished with status 'done'\n",
      "#9 4.017 Collecting dash\n",
      "#9 4.041   Downloading dash-2.7.0-py3-none-any.whl (9.9 MB)\n",
      "#9 4.820      ━━━━━━━━━━━━━━━━━━━━━━━━━━━━━━━━━━━━━━━━ 9.9/9.9 MB 12.8 MB/s eta 0:00:00\n",
      "#9 4.918 Collecting plotly\n",
      "#9 4.942   Downloading plotly-5.11.0-py2.py3-none-any.whl (15.3 MB)\n",
      "#9 5.826      ━━━━━━━━━━━━━━━━━━━━━━━━━━━━━━━━━━━━━━━━ 15.3/15.3 MB 16.5 MB/s eta 0:00:00\n",
      "#9 6.154 Collecting pandas\n",
      "#9 6.180   Downloading pandas-1.5.2-cp38-cp38-manylinux_2_17_x86_64.manylinux2014_x86_64.whl (12.2 MB)\n",
      "#9 7.070      ━━━━━━━━━━━━━━━━━━━━━━━━━━━━━━━━━━━━━━━━ 12.2/12.2 MB 14.3 MB/s eta 0:00:00\n",
      "#9 7.188 Collecting requests\n",
      "#9 7.213   Downloading requests-2.28.1-py3-none-any.whl (62 kB)\n",
      "#9 7.220      ━━━━━━━━━━━━━━━━━━━━━━━━━━━━━━━━━━━━━━━━ 62.8/62.8 KB 11.2 MB/s eta 0:00:00\n",
      "#9 7.304 Collecting dash_bootstrap_components\n",
      "#9 7.326   Downloading dash_bootstrap_components-1.2.1-py3-none-any.whl (216 kB)\n",
      "#9 7.351      ━━━━━━━━━━━━━━━━━━━━━━━━━━━━━━━━━━━━━━━ 216.1/216.1 KB 9.5 MB/s eta 0:00:00\n",
      "#9 7.400 Collecting h11>=0.8\n",
      "#9 7.422   Downloading h11-0.14.0-py3-none-any.whl (58 kB)\n",
      "#9 7.430      ━━━━━━━━━━━━━━━━━━━━━━━━━━━━━━━━━━━━━━━━ 58.3/58.3 KB 9.8 MB/s eta 0:00:00\n",
      "#9 7.481 Collecting click>=7.0\n",
      "#9 7.508   Downloading click-8.1.3-py3-none-any.whl (96 kB)\n",
      "#9 7.520      ━━━━━━━━━━━━━━━━━━━━━━━━━━━━━━━━━━━━━━━━ 96.6/96.6 KB 8.6 MB/s eta 0:00:00\n",
      "#9 7.644 Collecting starlette==0.22.0\n",
      "#9 7.671   Downloading starlette-0.22.0-py3-none-any.whl (64 kB)\n",
      "#9 7.677      ━━━━━━━━━━━━━━━━━━━━━━━━━━━━━━━━━━━━━━━━ 64.3/64.3 KB 12.6 MB/s eta 0:00:00\n",
      "#9 7.738 Collecting anyio<5,>=3.4.0\n",
      "#9 7.764   Downloading anyio-3.6.2-py3-none-any.whl (80 kB)\n",
      "#9 7.771      ━━━━━━━━━━━━━━━━━━━━━━━━━━━━━━━━━━━━━━━━ 80.6/80.6 KB 14.1 MB/s eta 0:00:00\n",
      "#9 7.813 Collecting typing-extensions>=3.10.0\n",
      "#9 7.837   Downloading typing_extensions-4.4.0-py3-none-any.whl (26 kB)\n",
      "#9 7.900 Collecting beautifulsoup4\n",
      "#9 7.926   Downloading beautifulsoup4-4.11.1-py3-none-any.whl (128 kB)\n",
      "#9 7.937      ━━━━━━━━━━━━━━━━━━━━━━━━━━━━━━━━━━━━━━ 128.2/128.2 KB 13.9 MB/s eta 0:00:00\n",
      "#9 8.029 Collecting dash-html-components==2.0.0\n",
      "#9 8.053   Downloading dash_html_components-2.0.0-py3-none-any.whl (4.1 kB)\n",
      "#9 8.114 Collecting dash-core-components==2.0.0\n",
      "#9 8.139   Downloading dash_core_components-2.0.0-py3-none-any.whl (3.8 kB)\n",
      "#9 8.182 Collecting dash-table==5.0.0\n",
      "#9 8.208   Downloading dash_table-5.0.0-py3-none-any.whl (3.9 kB)\n",
      "#9 8.262 Collecting Flask>=1.0.4\n",
      "#9 8.289   Downloading Flask-2.2.2-py3-none-any.whl (101 kB)\n",
      "#9 8.298      ━━━━━━━━━━━━━━━━━━━━━━━━━━━━━━━━━━━━━━ 101.5/101.5 KB 13.3 MB/s eta 0:00:00\n",
      "#9 8.359 Collecting tenacity>=6.2.0\n",
      "#9 8.385   Downloading tenacity-8.1.0-py3-none-any.whl (23 kB)\n",
      "#9 8.491 Collecting pytz>=2020.1\n",
      "#9 8.517   Downloading pytz-2022.6-py2.py3-none-any.whl (498 kB)\n",
      "#9 8.554      ━━━━━━━━━━━━━━━━━━━━━━━━━━━━━━━━━━━━━━ 498.1/498.1 KB 14.4 MB/s eta 0:00:00\n",
      "#9 8.934 Collecting numpy>=1.20.3\n",
      "#9 8.959   Downloading numpy-1.23.5-cp38-cp38-manylinux_2_17_x86_64.manylinux2014_x86_64.whl (17.1 MB)\n",
      "#9 10.08      ━━━━━━━━━━━━━━━━━━━━━━━━━━━━━━━━━━━━━━━━ 17.1/17.1 MB 16.3 MB/s eta 0:00:00\n",
      "#9 10.14 Collecting python-dateutil>=2.8.1\n",
      "#9 10.18   Downloading python_dateutil-2.8.2-py2.py3-none-any.whl (247 kB)\n",
      "#9 10.20      ━━━━━━━━━━━━━━━━━━━━━━━━━━━━━━━━━━━━━━ 247.7/247.7 KB 11.6 MB/s eta 0:00:00\n",
      "#9 10.27 Collecting urllib3<1.27,>=1.21.1\n",
      "#9 10.30   Downloading urllib3-1.26.13-py2.py3-none-any.whl (140 kB)\n",
      "#9 10.31      ━━━━━━━━━━━━━━━━━━━━━━━━━━━━━━━━━━━━━━ 140.6/140.6 KB 13.0 MB/s eta 0:00:00\n",
      "#9 10.35 Collecting idna<4,>=2.5\n",
      "#9 10.39   Downloading idna-3.4-py3-none-any.whl (61 kB)\n",
      "#9 10.40      ━━━━━━━━━━━━━━━━━━━━━━━━━━━━━━━━━━━━━━━━ 61.5/61.5 KB 16.0 MB/s eta 0:00:00\n",
      "#9 10.44 Collecting certifi>=2017.4.17\n",
      "#9 10.47   Downloading certifi-2022.9.24-py3-none-any.whl (161 kB)\n",
      "#9 10.48      ━━━━━━━━━━━━━━━━━━━━━━━━━━━━━━━━━━━━━━ 161.1/161.1 KB 14.1 MB/s eta 0:00:00\n",
      "#9 10.59 Collecting charset-normalizer<3,>=2\n",
      "#9 10.62   Downloading charset_normalizer-2.1.1-py3-none-any.whl (39 kB)\n",
      "#9 10.72 Collecting Jinja2>=3.0\n",
      "#9 10.74   Downloading Jinja2-3.1.2-py3-none-any.whl (133 kB)\n",
      "#9 10.76      ━━━━━━━━━━━━━━━━━━━━━━━━━━━━━━━━━━━━━━ 133.1/133.1 KB 12.7 MB/s eta 0:00:00\n",
      "#9 10.84 Collecting importlib-metadata>=3.6.0\n",
      "#9 10.87   Downloading importlib_metadata-5.1.0-py3-none-any.whl (21 kB)\n",
      "#9 10.91 Collecting itsdangerous>=2.0\n",
      "#9 10.94   Downloading itsdangerous-2.1.2-py3-none-any.whl (15 kB)\n",
      "#9 11.00 Collecting Werkzeug>=2.2.2\n",
      "#9 11.03   Downloading Werkzeug-2.2.2-py3-none-any.whl (232 kB)\n",
      "#9 11.04      ━━━━━━━━━━━━━━━━━━━━━━━━━━━━━━━━━━━━━━ 232.7/232.7 KB 13.9 MB/s eta 0:00:00\n",
      "#9 11.10 Collecting six>=1.5\n",
      "#9 11.13   Downloading six-1.16.0-py2.py3-none-any.whl (11 kB)\n",
      "#9 11.21 Collecting soupsieve>1.2\n",
      "#9 11.24   Downloading soupsieve-2.3.2.post1-py3-none-any.whl (37 kB)\n",
      "#9 11.30 Collecting sniffio>=1.1\n",
      "#9 11.32   Downloading sniffio-1.3.0-py3-none-any.whl (10 kB)\n",
      "#9 11.40 Collecting zipp>=0.5\n",
      "#9 11.42   Downloading zipp-3.11.0-py3-none-any.whl (6.6 kB)\n",
      "#9 11.52 Collecting MarkupSafe>=2.0\n",
      "#9 11.54   Downloading MarkupSafe-2.1.1-cp38-cp38-manylinux_2_17_x86_64.manylinux2014_x86_64.whl (25 kB)\n",
      "#9 11.59 Building wheels for collected packages: bs4\n",
      "#9 11.59   Building wheel for bs4 (setup.py): started\n",
      "#9 11.82   Building wheel for bs4 (setup.py): finished with status 'done'\n",
      "#9 11.82   Created wheel for bs4: filename=bs4-0.0.1-py3-none-any.whl size=1271 sha256=89085c47dbacafdd3dba996f05bac7c384a9796589ae0e4bf8b1aeb976756ae0\n",
      "#9 11.82   Stored in directory: /root/.cache/pip/wheels/75/78/21/68b124549c9bdc94f822c02fb9aa3578a669843f9767776bca\n",
      "#9 11.82 Successfully built bs4\n",
      "#9 12.15 Installing collected packages: pytz, dash-table, dash-html-components, dash-core-components, zipp, urllib3, typing-extensions, tenacity, soupsieve, sniffio, six, numpy, MarkupSafe, itsdangerous, idna, h11, click, charset-normalizer, certifi, Werkzeug, uvicorn, requests, python-dateutil, pydantic, plotly, Jinja2, importlib-metadata, beautifulsoup4, anyio, starlette, pandas, Flask, bs4, fastapi, dash, dash_bootstrap_components\n",
      "#9 23.54 Successfully installed Flask-2.2.2 Jinja2-3.1.2 MarkupSafe-2.1.1 Werkzeug-2.2.2 anyio-3.6.2 beautifulsoup4-4.11.1 bs4-0.0.1 certifi-2022.9.24 charset-normalizer-2.1.1 click-8.1.3 dash-2.7.0 dash-core-components-2.0.0 dash-html-components-2.0.0 dash-table-5.0.0 dash_bootstrap_components-1.2.1 fastapi-0.88.0 h11-0.14.0 idna-3.4 importlib-metadata-5.1.0 itsdangerous-2.1.2 numpy-1.23.5 pandas-1.5.2 plotly-5.11.0 pydantic-1.10.2 python-dateutil-2.8.2 pytz-2022.6 requests-2.28.1 six-1.16.0 sniffio-1.3.0 soupsieve-2.3.2.post1 starlette-0.22.0 tenacity-8.1.0 typing-extensions-4.4.0 urllib3-1.26.13 uvicorn-0.20.0 zipp-3.11.0\n",
      "#9 23.54 WARNING: Running pip as the 'root' user can result in broken permissions and conflicting behaviour with the system package manager. It is recommended to use a virtual environment instead: https://pip.pypa.io/warnings/venv\n",
      "#9 23.69 WARNING: You are using pip version 22.0.4; however, version 22.3.1 is available.\n",
      "#9 23.69 You should consider upgrading via the '/usr/local/bin/python -m pip install --upgrade pip' command.\n",
      "#9 DONE 24.6s\n",
      "\n",
      "#10 exporting to image\n",
      "#10 sha256:e8c613e07b0b7ff33893b694f7759a10d42e180f2b4dc349fb57dc6b71dcab00\n",
      "#10 exporting layers\n",
      "#10 exporting layers 3.2s done\n",
      "#10 writing image sha256:56ead1c2eb6a64ebc1273cbeac21a2de7ddad230c909b48d28cdf435486cd117 done\n",
      "#10 naming to docker.io/library/homework_3_marcon done\n",
      "#10 DONE 3.2s\n"
     ]
    }
   ],
   "source": [
    "!docker build -t homework_3_marcon ."
   ]
  },
  {
   "cell_type": "code",
   "execution_count": 11,
   "metadata": {},
   "outputs": [
    {
     "name": "stdout",
     "output_type": "stream",
     "text": [
      "756a20702aa6581376f272e1a22386f53188b54be7ecb4332c74de8fe6530c32\n"
     ]
    },
    {
     "name": "stderr",
     "output_type": "stream",
     "text": [
      "docker: Error response from daemon: driver failed programming external connectivity on endpoint ecstatic_robinson (479ef68403cda09d80b78675d0bad9ee17199e4d3c7191a079272dbea4311e06): Bind for 0.0.0.0:8050 failed: port is already allocated.\n"
     ]
    }
   ],
   "source": [
    "!docker run -d -p 8050:8050 homework_3_marcon"
   ]
  },
  {
   "cell_type": "code",
   "execution_count": 12,
   "metadata": {},
   "outputs": [
    {
     "data": {
      "text/plain": [
       "True"
      ]
     },
     "execution_count": 12,
     "metadata": {},
     "output_type": "execute_result"
    }
   ],
   "source": [
    "import webbrowser\n",
    "webbrowser.open('http://localhost:8050', new=2)"
   ]
  },
  {
   "cell_type": "code",
   "execution_count": 13,
   "metadata": {},
   "outputs": [],
   "source": [
    "!docker tag homework_3_marcon eliasm2022/homework_3_marcon:v.1.0"
   ]
  },
  {
   "cell_type": "code",
   "execution_count": 14,
   "metadata": {},
   "outputs": [
    {
     "name": "stdout",
     "output_type": "stream",
     "text": [
      "The push refers to repository [docker.io/eliasm2022/homework_3_marcon]\n",
      "0bd042083017: Preparing\n",
      "5f70bf18a086: Preparing\n",
      "a288317e33cb: Preparing\n",
      "f650a54f8c2d: Preparing\n",
      "938e6c7fe440: Preparing\n",
      "d3c4d115aaf3: Preparing\n",
      "7607c97b6c3f: Preparing\n",
      "1cad4dc57058: Preparing\n",
      "4ff8844d474a: Preparing\n",
      "b77487480ddb: Preparing\n",
      "cd247c0fb37b: Preparing\n",
      "cfdd5c3bd77e: Preparing\n",
      "870a241bfebd: Preparing\n",
      "d3c4d115aaf3: Waiting\n",
      "b77487480ddb: Waiting\n",
      "cd247c0fb37b: Waiting\n",
      "cfdd5c3bd77e: Waiting\n",
      "7607c97b6c3f: Waiting\n",
      "4ff8844d474a: Waiting\n",
      "870a241bfebd: Waiting\n",
      "5f70bf18a086: Mounted from eliasm2022/abgabe_3_frontend\n",
      "938e6c7fe440: Mounted from library/python\n",
      "d3c4d115aaf3: Mounted from library/python\n",
      "f650a54f8c2d: Pushed\n",
      "a288317e33cb: Pushed\n",
      "7607c97b6c3f: Mounted from library/python\n",
      "b77487480ddb: Mounted from library/python\n",
      "1cad4dc57058: Mounted from library/python\n",
      "4ff8844d474a: Mounted from library/python\n",
      "cd247c0fb37b: Mounted from library/python\n",
      "cfdd5c3bd77e: Mounted from library/python\n",
      "870a241bfebd: Mounted from library/python\n",
      "0bd042083017: Pushed\n",
      "v.1.0: digest: sha256:fc637cc01e45fb0838c5307315d071cfc976b572f0ef5be9831d046cc083d567 size: 3054\n"
     ]
    }
   ],
   "source": [
    "!docker push eliasm2022/homework_3_marcon:v.1.0"
   ]
  },
  {
   "cell_type": "markdown",
   "metadata": {},
   "source": [
    "# Pulling Docker images from Dockerhub"
   ]
  },
  {
   "cell_type": "code",
   "execution_count": 15,
   "metadata": {},
   "outputs": [
    {
     "name": "stdout",
     "output_type": "stream",
     "text": [
      "v.1.0: Pulling from eliasm2022/homework_3_marcon\n",
      "f2f58072e9ed: Already exists\n",
      "5c8cfbf51e6e: Already exists\n",
      "aa3a609d1579: Already exists\n",
      "094e7d9bb04e: Already exists\n",
      "2cbfd734f382: Already exists\n",
      "aa86ac293d0f: Already exists\n",
      "22ef46bb37aa: Already exists\n",
      "fe904d2505cb: Already exists\n",
      "a7f0bae21ebb: Already exists\n",
      "9ea07255227c: Already exists\n",
      "9ffc99dada6f: Already exists\n",
      "4f4fb700ef54: Already exists\n",
      "9bfda0f0696a: Already exists\n",
      "Digest: sha256:fc637cc01e45fb0838c5307315d071cfc976b572f0ef5be9831d046cc083d567\n",
      "Status: Downloaded newer image for eliasm2022/homework_3_marcon:v.1.0\n",
      "docker.io/eliasm2022/homework_3_marcon:v.1.0\n"
     ]
    }
   ],
   "source": [
    "!docker pull eliasm2022/homework_3_marcon:v.1.0"
   ]
  },
  {
   "cell_type": "code",
   "execution_count": 16,
   "metadata": {},
   "outputs": [
    {
     "name": "stdout",
     "output_type": "stream",
     "text": [
      "45474f1fd794ac163ad129319d902ece4667042cfab79d46d054d8121645795e\n"
     ]
    }
   ],
   "source": [
    "!docker run -d -p 8050:8050 eliasm2022/homework_3_marcon:v.1.0"
   ]
  },
  {
   "cell_type": "code",
   "execution_count": 17,
   "metadata": {},
   "outputs": [
    {
     "data": {
      "text/plain": [
       "True"
      ]
     },
     "execution_count": 17,
     "metadata": {},
     "output_type": "execute_result"
    }
   ],
   "source": [
    "import webbrowser\n",
    "webbrowser.open('http://localhost:8050', new=2)"
   ]
  }
 ],
 "metadata": {
  "kernelspec": {
   "display_name": "Python 3.8.7 64-bit",
   "language": "python",
   "name": "python3"
  },
  "language_info": {
   "codemirror_mode": {
    "name": "ipython",
    "version": 3
   },
   "file_extension": ".py",
   "mimetype": "text/x-python",
   "name": "python",
   "nbconvert_exporter": "python",
   "pygments_lexer": "ipython3",
   "version": "3.8.7"
  },
  "orig_nbformat": 4,
  "vscode": {
   "interpreter": {
    "hash": "3143cc147c526fa0129a639514241f2375a0458eb0f3715510059aeac7219031"
   }
  }
 },
 "nbformat": 4,
 "nbformat_minor": 2
}
